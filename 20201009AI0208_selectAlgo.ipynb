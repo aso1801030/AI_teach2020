{
  "nbformat": 4,
  "nbformat_minor": 0,
  "metadata": {
    "colab": {
      "name": "20201009AI0208_selectAlgo.ipynb",
      "provenance": [],
      "authorship_tag": "ABX9TyMeIja7TAf6V4BWcf49BkT7",
      "include_colab_link": true
    },
    "kernelspec": {
      "name": "python3",
      "display_name": "Python 3"
    }
  },
  "cells": [
    {
      "cell_type": "markdown",
      "metadata": {
        "id": "view-in-github",
        "colab_type": "text"
      },
      "source": [
        "<a href=\"https://colab.research.google.com/github/aso1801030/AI_teach2020/blob/master/20201009AI0208_selectAlgo.ipynb\" target=\"_parent\"><img src=\"https://colab.research.google.com/assets/colab-badge.svg\" alt=\"Open In Colab\"/></a>"
      ]
    },
    {
      "cell_type": "code",
      "metadata": {
        "id": "WnG83-Kzp7bd",
        "outputId": "d27f4444-797b-4c7a-8796-4747a1730776",
        "colab": {
          "base_uri": "https://localhost:8080/",
          "height": 484
        }
      },
      "source": [
        "# 現在のscikitーlearnをcolabのVMからアンインストール\n",
        "!pip uninstall scikit-learn\n",
        "# 前のバージョンを指定してvmにいんすとーる\n",
        "!pip install scikit-learn==0.20 --ignore-installed"
      ],
      "execution_count": 1,
      "outputs": [
        {
          "output_type": "stream",
          "text": [
            "Uninstalling scikit-learn-0.22.2.post1:\n",
            "  Would remove:\n",
            "    /usr/local/lib/python3.6/dist-packages/scikit_learn-0.22.2.post1.dist-info/*\n",
            "    /usr/local/lib/python3.6/dist-packages/sklearn/*\n",
            "Proceed (y/n)? y\n",
            "  Successfully uninstalled scikit-learn-0.22.2.post1\n",
            "Collecting scikit-learn==0.20\n",
            "\u001b[?25l  Downloading https://files.pythonhosted.org/packages/0c/b2/05be9b6da9ae4a4c54f537be22e95833f722742a02b1e355fdc09363877c/scikit_learn-0.20.0-cp36-cp36m-manylinux1_x86_64.whl (5.3MB)\n",
            "\u001b[K     |████████████████████████████████| 5.3MB 1.7MB/s \n",
            "\u001b[?25hCollecting numpy>=1.8.2\n",
            "\u001b[?25l  Downloading https://files.pythonhosted.org/packages/87/86/753182c9085ba4936c0076269a571613387cdb77ae2bf537448bfd63472c/numpy-1.19.4-cp36-cp36m-manylinux2010_x86_64.whl (14.5MB)\n",
            "\u001b[K     |████████████████████████████████| 14.5MB 312kB/s \n",
            "\u001b[?25hCollecting scipy>=0.13.3\n",
            "\u001b[?25l  Downloading https://files.pythonhosted.org/packages/c8/89/63171228d5ced148f5ced50305c89e8576ffc695a90b58fe5bb602b910c2/scipy-1.5.4-cp36-cp36m-manylinux1_x86_64.whl (25.9MB)\n",
            "\u001b[K     |████████████████████████████████| 25.9MB 126kB/s \n",
            "\u001b[31mERROR: tensorflow 2.3.0 has requirement numpy<1.19.0,>=1.16.0, but you'll have numpy 1.19.4 which is incompatible.\u001b[0m\n",
            "\u001b[31mERROR: tensorflow 2.3.0 has requirement scipy==1.4.1, but you'll have scipy 1.5.4 which is incompatible.\u001b[0m\n",
            "\u001b[31mERROR: datascience 0.10.6 has requirement folium==0.2.1, but you'll have folium 0.8.3 which is incompatible.\u001b[0m\n",
            "\u001b[31mERROR: albumentations 0.1.12 has requirement imgaug<0.2.7,>=0.2.5, but you'll have imgaug 0.2.9 which is incompatible.\u001b[0m\n",
            "\u001b[?25hInstalling collected packages: numpy, scipy, scikit-learn\n",
            "Successfully installed numpy-1.19.4 scikit-learn-0.20.0 scipy-1.5.4\n"
          ],
          "name": "stdout"
        },
        {
          "output_type": "display_data",
          "data": {
            "application/vnd.colab-display-data+json": {
              "pip_warning": {
                "packages": [
                  "numpy"
                ]
              }
            }
          },
          "metadata": {
            "tags": []
          }
        }
      ]
    },
    {
      "cell_type": "markdown",
      "metadata": {
        "id": "taLXpvo_qNc6"
      },
      "source": [
        "###all_estimators()でループして各種のアルゴリズムで学習させ、比較する"
      ]
    },
    {
      "cell_type": "code",
      "metadata": {
        "id": "WAasHNa8p91-"
      },
      "source": [
        "# ライブラリ読み込み\n",
        "import pandas as pd\n",
        "# 学習用データとテスト検証用データを分割する\n",
        "from sklearn.model_selection import train_test_split\n",
        "# 正解率を算出するライブラリ\n",
        "from sklearn.metrics import accuracy_score\n",
        "# all_estimaios(推定機の全てを利用できるようにする)\n",
        "from sklearn.utils.testing import all_estimators\n",
        "# 警告クラス\n",
        "import warnings"
      ],
      "execution_count": 2,
      "outputs": []
    },
    {
      "cell_type": "markdown",
      "metadata": {
        "id": "mWqAoXlBqRdh"
      },
      "source": [
        "###Webからあやめのデータを読み込む"
      ]
    },
    {
      "cell_type": "code",
      "metadata": {
        "id": "vgMjg5xaqJmf",
        "outputId": "b1f3e448-d9cf-480a-e295-58cee689949a",
        "colab": {
          "base_uri": "https://localhost:8080/",
          "height": 204
        }
      },
      "source": [
        "# urリンクから読み込むライブラリ\n",
        "import urllib.request as req\n",
        "# url用の文字列変数を定義\n",
        "url =\"https://raw.githubusercontent.com/pandas-dev/pandas/master/pandas/tests/io/data/csv/iris.csv\"\n",
        "#リンクから保存するためのファイル名を定義\n",
        "savefile = \"iris.csv\"\n",
        "# requestクラスを使ってurlからデータをsavefileへコピーして保存\n",
        "req.urlretrieve(url,savefile)\n",
        "#pandasのreadメソッドを使ってcsvファイルを読み込む\n",
        "iris_data = pd.read_csv(savefile,encoding=\"utf-8\")\n",
        "iris_data.head()"
      ],
      "execution_count": 3,
      "outputs": [
        {
          "output_type": "execute_result",
          "data": {
            "text/html": [
              "<div>\n",
              "<style scoped>\n",
              "    .dataframe tbody tr th:only-of-type {\n",
              "        vertical-align: middle;\n",
              "    }\n",
              "\n",
              "    .dataframe tbody tr th {\n",
              "        vertical-align: top;\n",
              "    }\n",
              "\n",
              "    .dataframe thead th {\n",
              "        text-align: right;\n",
              "    }\n",
              "</style>\n",
              "<table border=\"1\" class=\"dataframe\">\n",
              "  <thead>\n",
              "    <tr style=\"text-align: right;\">\n",
              "      <th></th>\n",
              "      <th>SepalLength</th>\n",
              "      <th>SepalWidth</th>\n",
              "      <th>PetalLength</th>\n",
              "      <th>PetalWidth</th>\n",
              "      <th>Name</th>\n",
              "    </tr>\n",
              "  </thead>\n",
              "  <tbody>\n",
              "    <tr>\n",
              "      <th>0</th>\n",
              "      <td>5.1</td>\n",
              "      <td>3.5</td>\n",
              "      <td>1.4</td>\n",
              "      <td>0.2</td>\n",
              "      <td>Iris-setosa</td>\n",
              "    </tr>\n",
              "    <tr>\n",
              "      <th>1</th>\n",
              "      <td>4.9</td>\n",
              "      <td>3.0</td>\n",
              "      <td>1.4</td>\n",
              "      <td>0.2</td>\n",
              "      <td>Iris-setosa</td>\n",
              "    </tr>\n",
              "    <tr>\n",
              "      <th>2</th>\n",
              "      <td>4.7</td>\n",
              "      <td>3.2</td>\n",
              "      <td>1.3</td>\n",
              "      <td>0.2</td>\n",
              "      <td>Iris-setosa</td>\n",
              "    </tr>\n",
              "    <tr>\n",
              "      <th>3</th>\n",
              "      <td>4.6</td>\n",
              "      <td>3.1</td>\n",
              "      <td>1.5</td>\n",
              "      <td>0.2</td>\n",
              "      <td>Iris-setosa</td>\n",
              "    </tr>\n",
              "    <tr>\n",
              "      <th>4</th>\n",
              "      <td>5.0</td>\n",
              "      <td>3.6</td>\n",
              "      <td>1.4</td>\n",
              "      <td>0.2</td>\n",
              "      <td>Iris-setosa</td>\n",
              "    </tr>\n",
              "  </tbody>\n",
              "</table>\n",
              "</div>"
            ],
            "text/plain": [
              "   SepalLength  SepalWidth  PetalLength  PetalWidth         Name\n",
              "0          5.1         3.5          1.4         0.2  Iris-setosa\n",
              "1          4.9         3.0          1.4         0.2  Iris-setosa\n",
              "2          4.7         3.2          1.3         0.2  Iris-setosa\n",
              "3          4.6         3.1          1.5         0.2  Iris-setosa\n",
              "4          5.0         3.6          1.4         0.2  Iris-setosa"
            ]
          },
          "metadata": {
            "tags": []
          },
          "execution_count": 3
        }
      ]
    },
    {
      "cell_type": "markdown",
      "metadata": {
        "id": "ZjFTzPEjrmPW"
      },
      "source": [
        "###アヤメデータを目的変数yと説明変数xに分離する"
      ]
    },
    {
      "cell_type": "code",
      "metadata": {
        "id": "hygg4m87qU_H",
        "outputId": "9973f1fe-d3d7-4100-8fa7-6d173be6d3f7",
        "colab": {
          "base_uri": "https://localhost:8080/"
        }
      },
      "source": [
        "y = iris_data.loc[:, \"Name\"] #目的変数\n",
        "x = iris_data.loc[:,[\"SepalLength\",\"SepalWidth\",\"PetalLength\",\"PetalWidth\"]] #説明変数\n",
        "\n",
        "print(y.head())\n",
        "print(x.head())"
      ],
      "execution_count": 4,
      "outputs": [
        {
          "output_type": "stream",
          "text": [
            "0    Iris-setosa\n",
            "1    Iris-setosa\n",
            "2    Iris-setosa\n",
            "3    Iris-setosa\n",
            "4    Iris-setosa\n",
            "Name: Name, dtype: object\n",
            "   SepalLength  SepalWidth  PetalLength  PetalWidth\n",
            "0          5.1         3.5          1.4         0.2\n",
            "1          4.9         3.0          1.4         0.2\n",
            "2          4.7         3.2          1.3         0.2\n",
            "3          4.6         3.1          1.5         0.2\n",
            "4          5.0         3.6          1.4         0.2\n"
          ],
          "name": "stdout"
        }
      ]
    },
    {
      "cell_type": "markdown",
      "metadata": {
        "id": "5AAFvPDyrtPx"
      },
      "source": [
        "###アヤメデータをさらに学習用とテストように分離する"
      ]
    },
    {
      "cell_type": "code",
      "metadata": {
        "id": "bsmn4zMGrppE",
        "outputId": "5391d443-6cb3-46ef-b58a-a0cf4d9c57ba",
        "colab": {
          "base_uri": "https://localhost:8080/"
        }
      },
      "source": [
        "# 学習用データ（train）と検証用データ（test）に分離\n",
        "x_train,x_test,y_train,y_test = train_test_split(x,y,test_size=0.2,train_size=0.8,shuffle=True)\n",
        "print(x_train.head())\n",
        "print(y_train.head())\n",
        "print(x_test.head())\n",
        "print(y_test.head())"
      ],
      "execution_count": 5,
      "outputs": [
        {
          "output_type": "stream",
          "text": [
            "     SepalLength  SepalWidth  PetalLength  PetalWidth\n",
            "141          6.9         3.1          5.1         2.3\n",
            "92           5.8         2.6          4.0         1.2\n",
            "137          6.4         3.1          5.5         1.8\n",
            "143          6.8         3.2          5.9         2.3\n",
            "20           5.4         3.4          1.7         0.2\n",
            "141     Iris-virginica\n",
            "92     Iris-versicolor\n",
            "137     Iris-virginica\n",
            "143     Iris-virginica\n",
            "20         Iris-setosa\n",
            "Name: Name, dtype: object\n",
            "     SepalLength  SepalWidth  PetalLength  PetalWidth\n",
            "88           5.6         3.0          4.1         1.3\n",
            "78           6.0         2.9          4.5         1.5\n",
            "21           5.1         3.7          1.5         0.4\n",
            "108          6.7         2.5          5.8         1.8\n",
            "63           6.1         2.9          4.7         1.4\n",
            "88     Iris-versicolor\n",
            "78     Iris-versicolor\n",
            "21         Iris-setosa\n",
            "108     Iris-virginica\n",
            "63     Iris-versicolor\n",
            "Name: Name, dtype: object\n"
          ],
          "name": "stdout"
        }
      ]
    },
    {
      "cell_type": "markdown",
      "metadata": {
        "id": "ybO3k9Y0r0v9"
      },
      "source": [
        "###allAlgorithmsにclassifierを指定して「分類」でフィルターしたアルゴリズムの推定器群を取得する"
      ]
    },
    {
      "cell_type": "code",
      "metadata": {
        "id": "YYaGrdYBrvhF"
      },
      "source": [
        "# 推定器のリストをフィルター指定して取得\n",
        "allAlgorithms = all_estimators(type_filter=\"classifier\")\n",
        "# ワーニングを無視する\n",
        "warnings.filterwarnings(\"ignore\")\n"
      ],
      "execution_count": 6,
      "outputs": []
    },
    {
      "cell_type": "markdown",
      "metadata": {
        "id": "7pFhzNArr6-4"
      },
      "source": [
        "###推定器のリストをループしながら学習&推論させる"
      ]
    },
    {
      "cell_type": "code",
      "metadata": {
        "id": "r5PBTawsr3Pc",
        "outputId": "3940e355-b1c6-4df2-8baa-95f873913b95",
        "colab": {
          "base_uri": "https://localhost:8080/"
        }
      },
      "source": [
        "#推定器のリストをループ\n",
        "for(name,algorithm) in allAlgorithms:\n",
        "  #各アルゴリズムのオブジェクトを生成\n",
        "  clf = algorithm() # 各アルゴリズムクラスのコンストラクトを実行\n",
        "  #　学習させる\n",
        "  clf.fit(x_train,y_train)\n",
        "  # 推論する\n",
        "  y_pred = clf.predict(x_test)\n",
        "  # accuracy_scoreで正解率を算出して表示\n",
        "  print(name,\"正解率 = \",accuracy_score(y_test,y_pred) )"
      ],
      "execution_count": 7,
      "outputs": [
        {
          "output_type": "stream",
          "text": [
            "AdaBoostClassifier 正解率 =  0.9333333333333333\n",
            "BaggingClassifier 正解率 =  0.9333333333333333\n",
            "BernoulliNB 正解率 =  0.26666666666666666\n",
            "CalibratedClassifierCV 正解率 =  0.8333333333333334\n",
            "ComplementNB 正解率 =  0.6\n",
            "DecisionTreeClassifier 正解率 =  0.9333333333333333\n",
            "ExtraTreeClassifier 正解率 =  0.9\n",
            "ExtraTreesClassifier 正解率 =  0.9333333333333333\n",
            "GaussianNB 正解率 =  0.9333333333333333\n",
            "GaussianProcessClassifier 正解率 =  0.9333333333333333\n",
            "GradientBoostingClassifier 正解率 =  0.9333333333333333\n",
            "KNeighborsClassifier 正解率 =  0.9666666666666667\n",
            "LabelPropagation 正解率 =  0.9666666666666667\n",
            "LabelSpreading 正解率 =  0.9666666666666667\n",
            "LinearDiscriminantAnalysis 正解率 =  0.9666666666666667\n",
            "LinearSVC 正解率 =  0.9\n",
            "LogisticRegression 正解率 =  0.8666666666666667\n",
            "LogisticRegressionCV 正解率 =  0.9333333333333333\n",
            "MLPClassifier 正解率 =  0.9666666666666667\n",
            "MultinomialNB 正解率 =  0.8\n",
            "NearestCentroid 正解率 =  0.9333333333333333\n",
            "NuSVC 正解率 =  0.9333333333333333\n",
            "PassiveAggressiveClassifier 正解率 =  0.6\n",
            "Perceptron 正解率 =  0.7333333333333333\n",
            "QuadraticDiscriminantAnalysis 正解率 =  0.9666666666666667\n",
            "RadiusNeighborsClassifier 正解率 =  0.9666666666666667\n",
            "RandomForestClassifier 正解率 =  0.9333333333333333\n",
            "RidgeClassifier 正解率 =  0.7666666666666667\n",
            "RidgeClassifierCV 正解率 =  0.7666666666666667\n",
            "SGDClassifier 正解率 =  0.5666666666666667\n",
            "SVC 正解率 =  0.9333333333333333\n"
          ],
          "name": "stdout"
        }
      ]
    },
    {
      "cell_type": "markdown",
      "metadata": {
        "id": "p1fBgot-sDJq"
      },
      "source": [
        "###クロスバリデーション\n",
        "###クロスバリデーション 関連のライブラリのインポート"
      ]
    },
    {
      "cell_type": "code",
      "metadata": {
        "id": "RYcxaXWHr91m"
      },
      "source": [
        "# ライブラリのインポート\n",
        "from sklearn.model_selection import KFold\n",
        "from sklearn.model_selection import cross_val_score"
      ],
      "execution_count": 8,
      "outputs": []
    },
    {
      "cell_type": "markdown",
      "metadata": {
        "id": "lJi1kbrBsISE"
      },
      "source": [
        "###クロスバリデーション を実行する"
      ]
    },
    {
      "cell_type": "code",
      "metadata": {
        "id": "7f7-anPDsFcf",
        "outputId": "d2ad2b5a-f19e-4751-e5ef-c0adf28ff915",
        "colab": {
          "base_uri": "https://localhost:8080/"
        }
      },
      "source": [
        "# K分割交差検証用のインスタンスを生成する\n",
        "kfold_cv = KFold(n_splits=5,shuffle=True)\n",
        "# 　すでに生成してあるall_astimatorsのインスタンスをループさせて、クロスバリデーション を行う\n",
        "for(name,algorithm) in allAlgorithms:\n",
        "  try:\n",
        "    # 各アルゴリズムのインスタンスを取得\n",
        "    clf = algorithm()\n",
        "    #scoreの属性がある学習モデルだけに送る\n",
        "    if hasattr(clf,\"score\"):\n",
        "      scores = cross_val_score(clf,x,y,cv=kfold_cv)\n",
        "      #k=n splits=5回分のクロスバリデーション のスコアを表示\n",
        "      print(name,\"の正解率=\")\n",
        "      print(scores)\n",
        "      #ifブロック終了\n",
        "    #tryブロック終了\n",
        "  except : #例外処理のブロック\n",
        "  #except Exception e:\n",
        "  #print(e)\n",
        "    #何もしない\n",
        "    pass"
      ],
      "execution_count": 9,
      "outputs": [
        {
          "output_type": "stream",
          "text": [
            "AdaBoostClassifier の正解率=\n",
            "[0.9        0.96666667 0.93333333 0.93333333 1.        ]\n",
            "BaggingClassifier の正解率=\n",
            "[0.96666667 0.9        1.         0.96666667 0.96666667]\n",
            "BernoulliNB の正解率=\n",
            "[0.23333333 0.23333333 0.26666667 0.3        0.3       ]\n",
            "CalibratedClassifierCV の正解率=\n",
            "[0.86666667 0.96666667 0.96666667 0.96666667 0.96666667]\n",
            "ComplementNB の正解率=\n",
            "[0.66666667 0.56666667 0.66666667 0.7        0.73333333]\n",
            "DecisionTreeClassifier の正解率=\n",
            "[0.9        0.96666667 0.96666667 0.96666667 1.        ]\n",
            "ExtraTreeClassifier の正解率=\n",
            "[0.96666667 0.9        0.93333333 0.93333333 1.        ]\n",
            "ExtraTreesClassifier の正解率=\n",
            "[0.9        0.96666667 0.93333333 0.93333333 1.        ]\n",
            "GaussianNB の正解率=\n",
            "[0.93333333 0.96666667 1.         0.9        0.93333333]\n",
            "GaussianProcessClassifier の正解率=\n",
            "[0.93333333 0.96666667 1.         0.96666667 0.96666667]\n",
            "GradientBoostingClassifier の正解率=\n",
            "[0.93333333 0.9        0.93333333 1.         0.93333333]\n",
            "KNeighborsClassifier の正解率=\n",
            "[0.96666667 0.93333333 0.86666667 0.96666667 0.96666667]\n",
            "LabelPropagation の正解率=\n",
            "[1.         0.86666667 1.         0.96666667 0.96666667]\n",
            "LabelSpreading の正解率=\n",
            "[1.         0.96666667 0.93333333 0.96666667 0.93333333]\n",
            "LinearDiscriminantAnalysis の正解率=\n",
            "[0.96666667 1.         0.93333333 1.         0.93333333]\n",
            "LinearSVC の正解率=\n",
            "[1.         0.96666667 0.93333333 0.9        0.93333333]\n",
            "LogisticRegression の正解率=\n",
            "[0.93333333 0.93333333 0.96666667 0.9        0.93333333]\n",
            "LogisticRegressionCV の正解率=\n",
            "[1.         0.93333333 0.93333333 0.8        0.96666667]\n",
            "MLPClassifier の正解率=\n",
            "[0.96666667 0.96666667 0.96666667 0.93333333 1.        ]\n",
            "MultinomialNB の正解率=\n",
            "[0.7        0.96666667 0.93333333 1.         0.63333333]\n",
            "NearestCentroid の正解率=\n",
            "[0.9        0.9        0.93333333 0.96666667 0.93333333]\n",
            "NuSVC の正解率=\n",
            "[0.96666667 0.8        0.96666667 1.         1.        ]\n",
            "PassiveAggressiveClassifier の正解率=\n",
            "[0.66666667 0.7        0.7        0.66666667 0.83333333]\n",
            "Perceptron の正解率=\n",
            "[0.66666667 0.6        0.86666667 0.56666667 0.43333333]\n",
            "QuadraticDiscriminantAnalysis の正解率=\n",
            "[1.         0.96666667 0.96666667 0.96666667 0.96666667]\n",
            "RadiusNeighborsClassifier の正解率=\n",
            "[0.96666667 0.96666667 0.93333333 0.93333333 0.93333333]\n",
            "RandomForestClassifier の正解率=\n",
            "[1.         0.96666667 0.93333333 0.93333333 0.9       ]\n",
            "RidgeClassifier の正解率=\n",
            "[0.9        0.8        0.83333333 0.86666667 0.76666667]\n",
            "RidgeClassifierCV の正解率=\n",
            "[0.9        0.93333333 0.8        0.9        0.76666667]\n",
            "SGDClassifier の正解率=\n",
            "[0.83333333 0.46666667 0.43333333 0.63333333 0.5       ]\n",
            "SVC の正解率=\n",
            "[1.         1.         1.         1.         0.96666667]\n"
          ],
          "name": "stdout"
        }
      ]
    },
    {
      "cell_type": "markdown",
      "metadata": {
        "id": "lkDK5ZPQsPRH"
      },
      "source": [
        "### おまけ: もっと詳しい結果を取得できるクロスバリデーション オブジェクト:cross_validate"
      ]
    },
    {
      "cell_type": "code",
      "metadata": {
        "id": "gvwW-yIKsLuW"
      },
      "source": [
        "# ライブラリのインポート\n",
        "from sklearn.model_selection import cross_validate"
      ],
      "execution_count": 10,
      "outputs": []
    },
    {
      "cell_type": "markdown",
      "metadata": {
        "id": "yzTfYL_dsUSv"
      },
      "source": [
        "###cross_validateを使ったクロスバリデーション"
      ]
    },
    {
      "cell_type": "code",
      "metadata": {
        "id": "KN8lcIQ6sSBu",
        "outputId": "52aa7bcb-1206-4ece-c63d-fd2bb494e0ba",
        "colab": {
          "base_uri": "https://localhost:8080/"
        }
      },
      "source": [
        "# K分割交差検証用のインスタンスを生成する\n",
        "kfold_cv = KFold(n_splits=5,shuffle=True)\n",
        "# 　すでに生成してあるall_astimatorsのインスタンスをループさせて、クロスバリデーション を行う\n",
        "for(name,algorithm) in allAlgorithms:\n",
        "  try:\n",
        "    # 各アルゴリズムのインスタンスを取得\n",
        "    clf = algorithm()\n",
        "    #scoreの属性がある学習モデルだけに送る\n",
        "    if hasattr(clf,\"score\"):\n",
        "      scores = cross_validate(clf,x,y,cv=kfold_cv)\n",
        "      #k=n splits=5回分のクロスバリデーション のスコアを表示\n",
        "      print(name,\"の正解率=\")\n",
        "      print(scores)\n",
        "      #ifブロック終了\n",
        "    #tryブロック終了\n",
        "  except : #例外処理のブロック\n",
        "    #何もしない\n",
        "    pass"
      ],
      "execution_count": 11,
      "outputs": [
        {
          "output_type": "stream",
          "text": [
            "AdaBoostClassifier の正解率=\n",
            "{'fit_time': array([0.06758523, 0.05845428, 0.05950546, 0.07213211, 0.05851364]), 'score_time': array([0.00556588, 0.00543928, 0.00646448, 0.00544739, 0.00558496]), 'test_score': array([0.93333333, 0.96666667, 0.86666667, 0.9       , 0.93333333]), 'train_score': array([0.95833333, 0.95833333, 0.94166667, 0.975     , 0.99166667])}\n",
            "BaggingClassifier の正解率=\n",
            "{'fit_time': array([0.01435184, 0.01250935, 0.01244783, 0.01248932, 0.01255155]), 'score_time': array([0.00168538, 0.00164914, 0.00151229, 0.00166559, 0.00166559]), 'test_score': array([0.96666667, 0.9       , 0.93333333, 0.96666667, 0.96666667]), 'train_score': array([0.99166667, 0.99166667, 1.        , 0.99166667, 0.99166667])}\n",
            "BernoulliNB の正解率=\n",
            "{'fit_time': array([0.00339341, 0.0017302 , 0.00162625, 0.00165153, 0.00166607]), 'score_time': array([0.00085068, 0.0007925 , 0.00078321, 0.00078058, 0.00077367]), 'test_score': array([0.2       , 0.23333333, 0.26666667, 0.33333333, 0.23333333]), 'train_score': array([0.36666667, 0.35833333, 0.35      , 0.33333333, 0.35833333])}\n",
            "CalibratedClassifierCV の正解率=\n",
            "{'fit_time': array([0.03851962, 0.03673911, 0.04256177, 0.03862405, 0.03744912]), 'score_time': array([0.00135541, 0.00172424, 0.00140691, 0.00151205, 0.00140357]), 'test_score': array([0.96666667, 0.9       , 0.96666667, 0.93333333, 0.9       ]), 'train_score': array([0.93333333, 0.94166667, 0.925     , 0.93333333, 0.94166667])}\n",
            "ComplementNB の正解率=\n",
            "{'fit_time': array([0.00260544, 0.00174427, 0.00171089, 0.00167656, 0.00170469]), 'score_time': array([0.00078535, 0.00070572, 0.00073695, 0.00071764, 0.00071669]), 'test_score': array([0.63333333, 0.73333333, 0.66666667, 0.7       , 0.6       ]), 'train_score': array([0.675     , 0.65      , 0.66666667, 0.65833333, 0.68333333])}\n",
            "DecisionTreeClassifier の正解率=\n",
            "{'fit_time': array([0.00234342, 0.00131202, 0.0012579 , 0.00124621, 0.0012238 ]), 'score_time': array([0.00084853, 0.00064731, 0.0006454 , 0.00065374, 0.00062203]), 'test_score': array([0.93333333, 0.96666667, 0.93333333, 0.96666667, 0.9       ]), 'train_score': array([1., 1., 1., 1., 1.])}\n",
            "ExtraTreeClassifier の正解率=\n",
            "{'fit_time': array([0.00227284, 0.00146699, 0.00132942, 0.00125861, 0.00119591]), 'score_time': array([0.00074506, 0.00067925, 0.00067806, 0.00065517, 0.00064373]), 'test_score': array([0.9       , 1.        , 0.96666667, 0.96666667, 0.93333333]), 'train_score': array([1., 1., 1., 1., 1.])}\n",
            "ExtraTreesClassifier の正解率=\n",
            "{'fit_time': array([0.01138735, 0.00947976, 0.00903177, 0.00896239, 0.00907135]), 'score_time': array([0.0016737 , 0.00159335, 0.0015142 , 0.00148582, 0.00156283]), 'test_score': array([1.        , 0.96666667, 0.83333333, 0.96666667, 0.96666667]), 'train_score': array([1., 1., 1., 1., 1.])}\n",
            "GaussianNB の正解率=\n",
            "{'fit_time': array([0.00242257, 0.00153708, 0.00150728, 0.00151634, 0.00153089]), 'score_time': array([0.00178671, 0.00079155, 0.00078392, 0.00078821, 0.00077248]), 'test_score': array([0.96666667, 0.9       , 0.96666667, 0.96666667, 0.96666667]), 'train_score': array([0.95      , 0.975     , 0.95833333, 0.95833333, 0.95      ])}\n",
            "GaussianProcessClassifier の正解率=\n",
            "{'fit_time': array([0.03549981, 0.04552698, 0.03243804, 0.03210521, 0.07030749]), 'score_time': array([0.00518537, 0.00504184, 0.00512815, 0.00594211, 0.01011801]), 'test_score': array([0.93333333, 0.96666667, 0.96666667, 0.96666667, 0.96666667]), 'train_score': array([0.975     , 0.95      , 0.95833333, 0.975     , 0.98333333])}\n",
            "GradientBoostingClassifier の正解率=\n",
            "{'fit_time': array([0.19844794, 0.15151477, 0.14478874, 0.13389826, 0.1294632 ]), 'score_time': array([0.00168324, 0.00141859, 0.00143075, 0.00169039, 0.00134373]), 'test_score': array([0.9       , 0.96666667, 0.93333333, 0.96666667, 0.93333333]), 'train_score': array([1., 1., 1., 1., 1.])}\n",
            "KNeighborsClassifier の正解率=\n",
            "{'fit_time': array([0.0018878 , 0.00145817, 0.00144053, 0.00133181, 0.00140119]), 'score_time': array([0.00265098, 0.00198102, 0.00196958, 0.00185704, 0.00199318]), 'test_score': array([0.93333333, 1.        , 0.93333333, 1.        , 1.        ]), 'train_score': array([0.975     , 0.98333333, 0.98333333, 0.95833333, 0.96666667])}\n",
            "LabelPropagation の正解率=\n",
            "{'fit_time': array([0.00382805, 0.00287938, 0.0028317 , 0.0028193 , 0.00278616]), 'score_time': array([0.00167108, 0.0015614 , 0.00148368, 0.00154543, 0.00152087]), 'test_score': array([1.        , 0.86666667, 0.93333333, 0.96666667, 1.        ]), 'train_score': array([1., 1., 1., 1., 1.])}\n",
            "LabelSpreading の正解率=\n",
            "{'fit_time': array([0.00332546, 0.00316286, 0.0031631 , 0.00310111, 0.0031476 ]), 'score_time': array([0.00160933, 0.00154281, 0.00151277, 0.00149751, 0.00146556]), 'test_score': array([0.96666667, 0.9       , 0.9       , 1.        , 1.        ]), 'train_score': array([1., 1., 1., 1., 1.])}\n",
            "LinearDiscriminantAnalysis の正解率=\n",
            "{'fit_time': array([0.00262022, 0.00263262, 0.00260615, 0.00250268, 0.00268626]), 'score_time': array([0.00093198, 0.00092554, 0.00092864, 0.0009129 , 0.0009656 ]), 'test_score': array([1.        , 0.96666667, 1.        , 0.96666667, 0.96666667]), 'train_score': array([0.975     , 0.98333333, 0.975     , 0.98333333, 0.98333333])}\n",
            "LinearSVC の正解率=\n",
            "{'fit_time': array([0.01158619, 0.01163745, 0.01154852, 0.0191884 , 0.01374602]), 'score_time': array([0.00117207, 0.00112462, 0.00115061, 0.00188875, 0.00120258]), 'test_score': array([0.96666667, 0.96666667, 1.        , 1.        , 0.9       ]), 'train_score': array([0.96666667, 0.96666667, 0.96666667, 0.96666667, 0.98333333])}\n",
            "LogisticRegression の正解率=\n",
            "{'fit_time': array([0.00259519, 0.00171781, 0.0016408 , 0.00162363, 0.0018661 ]), 'score_time': array([0.00078058, 0.00065875, 0.00065088, 0.00062346, 0.00070167]), 'test_score': array([1.        , 0.93333333, 0.93333333, 0.96666667, 0.9       ]), 'train_score': array([0.93333333, 0.96666667, 0.96666667, 0.95833333, 0.95      ])}\n",
            "LogisticRegressionCV の正解率=\n",
            "{'fit_time': array([0.33397222, 0.35171628, 0.32434535, 0.31677985, 0.32429051]), 'score_time': array([0.00094771, 0.00091195, 0.00091147, 0.00088286, 0.0009172 ]), 'test_score': array([0.96666667, 0.9       , 0.9       , 1.        , 0.9       ]), 'train_score': array([0.98333333, 0.96666667, 0.96666667, 0.95      , 0.925     ])}\n",
            "MLPClassifier の正解率=\n",
            "{'fit_time': array([0.13237715, 0.13616371, 0.13188863, 0.13534975, 0.12866354]), 'score_time': array([0.00116324, 0.00119638, 0.00115728, 0.00116491, 0.0011797 ]), 'test_score': array([1.        , 0.96666667, 0.93333333, 1.        , 1.        ]), 'train_score': array([0.98333333, 0.96666667, 0.98333333, 0.975     , 0.975     ])}\n",
            "MultinomialNB の正解率=\n",
            "{'fit_time': array([0.00240755, 0.00179982, 0.00171494, 0.00168753, 0.00168705]), 'score_time': array([0.00170946, 0.00076795, 0.00071478, 0.00073814, 0.00075388]), 'test_score': array([0.93333333, 0.96666667, 0.93333333, 0.9       , 1.        ]), 'train_score': array([0.975     , 0.96666667, 0.96666667, 0.96666667, 0.95833333])}\n",
            "NearestCentroid の正解率=\n",
            "{'fit_time': array([0.00134015, 0.00135398, 0.00121737, 0.00118995, 0.00116587]), 'score_time': array([0.0007937 , 0.00076246, 0.00074315, 0.00073767, 0.00072432]), 'test_score': array([0.93333333, 0.93333333, 0.9       , 0.9       , 0.9       ]), 'train_score': array([0.91666667, 0.93333333, 0.93333333, 0.93333333, 0.925     ])}\n",
            "NuSVC の正解率=\n",
            "{'fit_time': array([0.00302958, 0.00208116, 0.00211167, 0.00206637, 0.0020802 ]), 'score_time': array([0.00087595, 0.0008316 , 0.0007894 , 0.00074029, 0.00086784]), 'test_score': array([1.        , 0.96666667, 0.96666667, 0.93333333, 0.96666667]), 'train_score': array([0.96666667, 0.96666667, 0.98333333, 0.96666667, 0.95      ])}\n",
            "PassiveAggressiveClassifier の正解率=\n",
            "{'fit_time': array([0.00182986, 0.00169897, 0.00168991, 0.00163865, 0.00169897]), 'score_time': array([0.0007112 , 0.00063467, 0.00064015, 0.000664  , 0.00064087]), 'test_score': array([0.73333333, 0.6       , 0.53333333, 0.7       , 0.53333333]), 'train_score': array([0.675     , 0.70833333, 0.7       , 0.65833333, 0.7       ])}\n",
            "Perceptron の正解率=\n",
            "{'fit_time': array([0.00350404, 0.0024097 , 0.00237489, 0.00239491, 0.00233555]), 'score_time': array([0.00140071, 0.00068641, 0.00068331, 0.00065947, 0.00068998]), 'test_score': array([0.3       , 0.53333333, 0.86666667, 0.8       , 0.5       ]), 'train_score': array([0.34166667, 0.7       , 0.96666667, 0.68333333, 0.58333333])}\n",
            "QuadraticDiscriminantAnalysis の正解率=\n",
            "{'fit_time': array([0.00280404, 0.00188184, 0.00157666, 0.00155783, 0.00149679]), 'score_time': array([0.00110984, 0.00088763, 0.00092959, 0.0008328 , 0.00084496]), 'test_score': array([1.        , 0.96666667, 0.96666667, 1.        , 0.96666667]), 'train_score': array([0.975     , 0.99166667, 0.98333333, 0.975     , 0.98333333])}\n",
            "RadiusNeighborsClassifier の正解率=\n",
            "{'fit_time': array([0.00172782, 0.00152564, 0.00155425, 0.00146484, 0.00282145]), 'score_time': array([0.00583196, 0.00417161, 0.00431085, 0.00428772, 0.00718737]), 'test_score': array([0.96666667, 1.        , 0.96666667, 0.96666667, 0.86666667]), 'train_score': array([0.96666667, 0.95833333, 0.95      , 0.95833333, 0.95833333])}\n",
            "RandomForestClassifier の正解率=\n",
            "{'fit_time': array([0.0147028 , 0.01300526, 0.0124898 , 0.01285887, 0.01447439]), 'score_time': array([0.00169539, 0.00161505, 0.00191975, 0.00195169, 0.00172687]), 'test_score': array([0.93333333, 0.96666667, 0.83333333, 1.        , 0.96666667]), 'train_score': array([1.        , 0.99166667, 1.        , 1.        , 1.        ])}\n",
            "RidgeClassifier の正解率=\n",
            "{'fit_time': array([0.00482059, 0.00270963, 0.0026958 , 0.00272894, 0.00299096]), 'score_time': array([0.00085926, 0.00075078, 0.00091958, 0.00081635, 0.00079203]), 'test_score': array([0.8       , 0.8       , 0.9       , 0.86666667, 0.9       ]), 'train_score': array([0.875     , 0.85833333, 0.84166667, 0.825     , 0.84166667])}\n",
            "RidgeClassifierCV の正解率=\n",
            "{'fit_time': array([0.00511885, 0.00327229, 0.00305367, 0.0029242 , 0.0029037 ]), 'score_time': array([0.00086522, 0.00084949, 0.00077796, 0.00081682, 0.00074005]), 'test_score': array([0.76666667, 0.9       , 0.76666667, 0.93333333, 0.8       ]), 'train_score': array([0.875     , 0.84166667, 0.85      , 0.85833333, 0.85      ])}\n",
            "SGDClassifier の正解率=\n",
            "{'fit_time': array([0.00339103, 0.00193954, 0.00184393, 0.00191903, 0.00177622]), 'score_time': array([0.00076151, 0.0007422 , 0.00073218, 0.00089002, 0.00065565]), 'test_score': array([0.26666667, 0.7       , 0.63333333, 0.6       , 0.46666667]), 'train_score': array([0.39166667, 0.65833333, 0.675     , 0.6       , 0.33333333])}\n",
            "SVC の正解率=\n",
            "{'fit_time': array([0.00273299, 0.00195265, 0.00189281, 0.00192332, 0.00183773]), 'score_time': array([0.00123978, 0.00086761, 0.00105691, 0.00081396, 0.00076222]), 'test_score': array([0.96666667, 1.        , 1.        , 0.96666667, 0.93333333]), 'train_score': array([0.975     , 0.99166667, 0.975     , 1.        , 0.99166667])}\n"
          ],
          "name": "stdout"
        }
      ]
    },
    {
      "cell_type": "markdown",
      "metadata": {
        "id": "XIIkIxZRsaHe"
      },
      "source": [
        "###グリッドサーチで最適なパラメータを探し求める\n",
        "ライブラリをimport"
      ]
    },
    {
      "cell_type": "code",
      "metadata": {
        "id": "r69lSwbQsXMF"
      },
      "source": [
        "# グリッドサーチ\n",
        "from sklearn.model_selection import GridSearchCV\n",
        "# SVCアルゴリズムの学習モデルをimport\n",
        "from sklearn.svm import SVC"
      ],
      "execution_count": 12,
      "outputs": []
    },
    {
      "cell_type": "markdown",
      "metadata": {
        "id": "_2stSGcjsife"
      },
      "source": [
        "###グリッドサーチを実行してパラメータを試す"
      ]
    },
    {
      "cell_type": "code",
      "metadata": {
        "id": "V3Kv8WbWsgW7",
        "outputId": "d948cf4d-adcf-4c49-890d-3f470e2df8a7",
        "colab": {
          "base_uri": "https://localhost:8080/"
        }
      },
      "source": [
        "# グリッドサーチを試すパラメ０他のパターンを指定する\n",
        "parameters = [\n",
        "              #３つのパラメータ、3パターン\n",
        "              {\"C\":[1,10,100,1000],\"kernel\":[\"linear\"]},\n",
        "              {\"C\":[1,10,100,1000],\"kernel\":[\"rbf\"],\"gamma\":[0.001,0.0001]},\n",
        "              {\"C\":[1,10,100,1000],\"kernel\":[\"sigmoid\"],\"gamma\":[0.001,0.0001]}\n",
        "              ]\n",
        "\n",
        "# K分割交差検証用のインスタンスを生成する\n",
        "kfold_cv = KFold(n_splits=5,shuffle=True)\n",
        "#普通の学習\n",
        "clf = SVC()\n",
        "clf.fit(x_train,y_train)\n",
        "y_pred = clf.predict(x_test)\n",
        "print(\"普通の学習の正解率 = \",accuracy_score(y_test,y_pred))\n",
        "\n",
        "#  グリッドサーチを行う\n",
        "# K分割交差検証用のインスタンスを生成する\n",
        "kfold_cv = KFold(n_splits=5,shuffle=True)\n",
        "# グリッドサーチの中でK分割交差検証も行われる\n",
        "clf_grid = GridSearchCV(SVC(),parameters,cv=kfold_cv) # インスタンス\n",
        "clf_grid.fit(x_train,y_train) #学習\n",
        "# 学習済みのもでるに最終的に設定された(最適と思われる)パラメータを表示\n",
        "print(\"最適なパラメータ = \",clf_grid.best_estimator_)\n",
        "\n",
        "#　最適なパラメータを表示\n",
        "y_pred = clf_grid.predict(x_test)\n",
        "print(\"グリッドサーチの正解率=\",accuracy_score(y_pred,y_test))"
      ],
      "execution_count": 13,
      "outputs": [
        {
          "output_type": "stream",
          "text": [
            "普通の学習の正解率 =  0.9333333333333333\n",
            "最適なパラメータ =  SVC(C=1, cache_size=200, class_weight=None, coef0=0.0,\n",
            "  decision_function_shape='ovr', degree=3, gamma='auto_deprecated',\n",
            "  kernel='linear', max_iter=-1, probability=False, random_state=None,\n",
            "  shrinking=True, tol=0.001, verbose=False)\n",
            "グリッドサーチの正解率= 0.9333333333333333\n"
          ],
          "name": "stdout"
        }
      ]
    },
    {
      "cell_type": "markdown",
      "metadata": {
        "id": "AYPJ5gGUsp9Q"
      },
      "source": [
        "###Numpyの動作確認"
      ]
    },
    {
      "cell_type": "code",
      "metadata": {
        "id": "NEMSEJF4slo0"
      },
      "source": [
        "import numpy as np"
      ],
      "execution_count": 14,
      "outputs": []
    },
    {
      "cell_type": "code",
      "metadata": {
        "id": "hTladwGmstNf",
        "outputId": "fe56db53-3356-40e0-da1b-0d1c86e3f0cc",
        "colab": {
          "base_uri": "https://localhost:8080/"
        }
      },
      "source": [
        "# numpy配列の初期化\n",
        "a = np.array([1,2,3,4,5]) # ndarrayという配列オブジェクトを生成\n",
        "print(a)\n",
        "#型を表示\n",
        "print(type(a))"
      ],
      "execution_count": 15,
      "outputs": [
        {
          "output_type": "stream",
          "text": [
            "[1 2 3 4 5]\n",
            "<class 'numpy.ndarray'>\n"
          ],
          "name": "stdout"
        }
      ]
    },
    {
      "cell_type": "code",
      "metadata": {
        "id": "OfLLmUersvDO",
        "outputId": "b6fd80e9-cbf2-49fb-cc03-c1e3732ea8d0",
        "colab": {
          "base_uri": "https://localhost:8080/"
        }
      },
      "source": [
        "# ２次元のndarrayを定義\n",
        "b = np.array([[1,2,3],[4,5,6]])\n",
        "print(b)"
      ],
      "execution_count": 16,
      "outputs": [
        {
          "output_type": "stream",
          "text": [
            "[[1 2 3]\n",
            " [4 5 6]]\n"
          ],
          "name": "stdout"
        }
      ]
    },
    {
      "cell_type": "code",
      "metadata": {
        "id": "UvslSlwKsw6q",
        "outputId": "099f30df-0232-45a2-fbf9-bec2eb8ac540",
        "colab": {
          "base_uri": "https://localhost:8080/"
        }
      },
      "source": [
        "# 配列の要素数を指定して0で初期化\n",
        "print(np.zeros(10))\n",
        "print(np.zeros((3,2)))\n",
        "print(np.ones(2))"
      ],
      "execution_count": 18,
      "outputs": [
        {
          "output_type": "stream",
          "text": [
            "[0. 0. 0. 0. 0. 0. 0. 0. 0. 0.]\n",
            "[[0. 0.]\n",
            " [0. 0.]\n",
            " [0. 0.]]\n",
            "[1. 1.]\n"
          ],
          "name": "stdout"
        }
      ]
    },
    {
      "cell_type": "code",
      "metadata": {
        "id": "yIyq28pWsyn5",
        "outputId": "b287c0c4-64bf-4dd9-a6d7-cf03a2933244",
        "colab": {
          "base_uri": "https://localhost:8080/"
        }
      },
      "source": [
        "# 連番の配列を要素数を指定して初期化\n",
        "print(np.arange(5))\n",
        "print(np.arange(2,9))\n",
        "print(np.arange(5,8,0.5))"
      ],
      "execution_count": 19,
      "outputs": [
        {
          "output_type": "stream",
          "text": [
            "[0 1 2 3 4]\n",
            "[2 3 4 5 6 7 8]\n",
            "[5.  5.5 6.  6.5 7.  7.5]\n"
          ],
          "name": "stdout"
        }
      ]
    },
    {
      "cell_type": "markdown",
      "metadata": {
        "id": "Am93bC-Rs6yv"
      },
      "source": [
        "###numpyで行列計算"
      ]
    },
    {
      "cell_type": "code",
      "metadata": {
        "id": "u9FL8wi7s3VJ",
        "outputId": "3cec2942-07ba-4c33-ff36-9e7261295ad3",
        "colab": {
          "base_uri": "https://localhost:8080/"
        }
      },
      "source": [
        "# numpyで行列計算\n",
        "a = np.array([1,2,3,4,5])\n",
        "b = a*2\n",
        "print(b)\n",
        "x = np.arange(10)\n",
        "print(x)\n",
        "y = 3*x + 5\n",
        "print(y)"
      ],
      "execution_count": 20,
      "outputs": [
        {
          "output_type": "stream",
          "text": [
            "[ 2  4  6  8 10]\n",
            "[0 1 2 3 4 5 6 7 8 9]\n",
            "[ 5  8 11 14 17 20 23 26 29 32]\n"
          ],
          "name": "stdout"
        }
      ]
    },
    {
      "cell_type": "code",
      "metadata": {
        "id": "9l8uMz04tJIQ",
        "outputId": "36ed31c2-2e20-43cf-c1e2-ffd482f812dd",
        "colab": {
          "base_uri": "https://localhost:8080/"
        }
      },
      "source": [
        "a = np.array([[1,2,3],[4,5,6]])\n",
        "print(a)\n",
        "print(a.shape)\n",
        "\n",
        "b = np.array([[1,2,3],[4,5,6],[7,8,9]])\n",
        "print(b)\n",
        "print(b.shape)"
      ],
      "execution_count": 21,
      "outputs": [
        {
          "output_type": "stream",
          "text": [
            "[[1 2 3]\n",
            " [4 5 6]]\n",
            "(2, 3)\n",
            "[[1 2 3]\n",
            " [4 5 6]\n",
            " [7 8 9]]\n",
            "(3, 3)\n"
          ],
          "name": "stdout"
        }
      ]
    },
    {
      "cell_type": "code",
      "metadata": {
        "id": "tLWLJimetLZm",
        "outputId": "fd65bddd-8399-44b9-b5a7-b3eb82256f47",
        "colab": {
          "base_uri": "https://localhost:8080/"
        }
      },
      "source": [
        "# Numpy配列で次元数を変換する\n",
        "a = np.array([[1,2,3],[4,5,6]])\n",
        "print(\"a=\", a)\n",
        "b = a.flatten()\n",
        "print(\"b=\", b)\n",
        "\n",
        "a = np.array([[1,2,3],[4,5,6]])\n",
        "print(a)\n",
        "b = a.reshape(3,2)\n",
        "print(b)"
      ],
      "execution_count": 22,
      "outputs": [
        {
          "output_type": "stream",
          "text": [
            "a= [[1 2 3]\n",
            " [4 5 6]]\n",
            "b= [1 2 3 4 5 6]\n",
            "[[1 2 3]\n",
            " [4 5 6]]\n",
            "[[1 2]\n",
            " [3 4]\n",
            " [5 6]]\n"
          ],
          "name": "stdout"
        }
      ]
    },
    {
      "cell_type": "markdown",
      "metadata": {
        "id": "LUHtoy3YtQMR"
      },
      "source": [
        "###numpyの配列にアクセスする方法"
      ]
    },
    {
      "cell_type": "code",
      "metadata": {
        "id": "9dALlWZdtNmy",
        "outputId": "2012cc86-784f-4779-ed3b-65148364a867",
        "colab": {
          "base_uri": "https://localhost:8080/"
        }
      },
      "source": [
        "v = np.array([[1,2,3],[4,5,6],[7,8,9]])\n",
        "a = v[0]\n",
        "print(a) # 二次元配列の０行目\n",
        "b = v[1:] #  一列目いこう\n",
        "print(b)\n",
        "c = v[:,0]\n",
        "print(c)"
      ],
      "execution_count": 23,
      "outputs": [
        {
          "output_type": "stream",
          "text": [
            "[1 2 3]\n",
            "[[4 5 6]\n",
            " [7 8 9]]\n",
            "[1 4 7]\n"
          ],
          "name": "stdout"
        }
      ]
    },
    {
      "cell_type": "code",
      "metadata": {
        "id": "UZGcWFF3tTL_"
      },
      "source": [
        ""
      ],
      "execution_count": null,
      "outputs": []
    }
  ]
}